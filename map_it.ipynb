{
 "cells": [
  {
   "cell_type": "markdown",
   "id": "35d820ca",
   "metadata": {},
   "source": [
    "#  Web Scraping"
   ]
  },
  {
   "cell_type": "markdown",
   "id": "45171464",
   "metadata": {},
   "source": [
    "### Web scraping is the term for using a program to download and process content from the web"
   ]
  },
  {
   "cell_type": "markdown",
   "id": "4ec6f291",
   "metadata": {},
   "source": [
    "**webbrowser** Comes with Python and opens a browser to a specific page.\n",
    "\n",
    "**requests** Downloads files and web pages from the internet.\n",
    "\n",
    "**bs4** Parses HTML, the format that web pages are written in.\n",
    "\n",
    "**selenium** Launches and controls a web browser. The selenium module is able to fill in forms and simulate mouse clicks in this browser."
   ]
  },
  {
   "cell_type": "markdown",
   "id": "e9c1e2d4",
   "metadata": {},
   "source": [
    "## 1. map_it - Launches a map in the browser using an address from the command line or clipboard"
   ]
  },
  {
   "cell_type": "markdown",
   "id": "c3a06d58",
   "metadata": {},
   "source": [
    "### 1.1 importing modules"
   ]
  },
  {
   "cell_type": "code",
   "execution_count": 2,
   "id": "8e7b54f8",
   "metadata": {},
   "outputs": [],
   "source": [
    "import webbrowser, sys,pyperclip\n"
   ]
  },
  {
   "cell_type": "code",
   "execution_count": 3,
   "id": "de4bee47",
   "metadata": {},
   "outputs": [],
   "source": [
    " #mapIt.py - Launches a map in the browser using an address from the\n",
    "# command line or clipboard.\n",
    "\n",
    "if len(sys.argv) > 1:\n",
    "    # Get address from command line.\n",
    "    address = ' '.join(sys.argv[1:])\n",
    "else:\n",
    "    # Get address from clipboard.\n",
    "    address = pyperclip.paste()"
   ]
  },
  {
   "cell_type": "code",
   "execution_count": null,
   "id": "238ec921",
   "metadata": {},
   "outputs": [],
   "source": []
  },
  {
   "cell_type": "code",
   "execution_count": null,
   "id": "624d2f8e",
   "metadata": {},
   "outputs": [],
   "source": []
  }
 ],
 "metadata": {
  "kernelspec": {
   "display_name": "Python 3 (ipykernel)",
   "language": "python",
   "name": "python3"
  },
  "language_info": {
   "codemirror_mode": {
    "name": "ipython",
    "version": 3
   },
   "file_extension": ".py",
   "mimetype": "text/x-python",
   "name": "python",
   "nbconvert_exporter": "python",
   "pygments_lexer": "ipython3",
   "version": "3.9.13"
  }
 },
 "nbformat": 4,
 "nbformat_minor": 5
}
